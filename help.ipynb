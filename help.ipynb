{
 "cells": [
  {
   "cell_type": "code",
   "execution_count": null,
   "metadata": {},
   "outputs": [],
   "source": [
    "from pandas import pd\n",
    "\n",
    "\n",
    "def proceed_password(password):\n",
    "    result = []\n",
    "\n",
    "    upper_cases = list(\"ABCDEFGHIJKLMNOPQRSTUVWXYZ\".upper())\n",
    "    lower_cases = list(\"ABCDEFGHIJKLMNOPQRSTUVWXYZ\".lower())\n",
    "    digits = list(\"1234567890\")\n",
    "    specials = list(\"!@#\\$%^&*()_-+=|\\\\/<>\\\"'~`\")\n",
    "    print(specials)\n",
    "\n",
    "    characters = list(str(password))\n",
    "\n",
    "    #upper case\n",
    "    upper_case_count = 0\n",
    "    lower_case_count = 0\n",
    "    digit_count = 0\n",
    "    special_count = 0\n",
    "    \n",
    "    for each_char in characters:\n",
    "        if upper_cases.__contains__(each_char): upper_case_count = upper_case_count + 1\n",
    "        if lower_cases.__contains__(each_char): lower_case_count = lower_case_count + 1\n",
    "        if digits.__contains__(each_char): digit_count = digit_count + 1\n",
    "        if specials.__contains__(each_char): special_count = special_count + 1\n",
    "    result = [password,len(characters),upper_case_count,lower_case_count,digit_count,special_count,-1]\n",
    "    return result\n",
    "\n",
    "result = proceed_password('Sio64@ti7o')\n",
    "print(result)\n"
   ]
  }
 ],
 "metadata": {
  "language_info": {
   "name": "python"
  }
 },
 "nbformat": 4,
 "nbformat_minor": 2
}
